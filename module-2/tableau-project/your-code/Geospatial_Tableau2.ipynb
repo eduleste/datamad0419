{
 "cells": [
  {
   "cell_type": "code",
   "execution_count": 1,
   "metadata": {},
   "outputs": [
    {
     "name": "stdout",
     "output_type": "stream",
     "text": [
      "Database(MongoClient(host=['localhost:27017'], document_class=dict, tz_aware=False, connect=True), 'companies_v1')\n"
     ]
    }
   ],
   "source": [
    "from pymongo import MongoClient\n",
    "import pandas as pd\n",
    "client = MongoClient('localhost', 27017)\n",
    "\n",
    "db = client.companies_v1\n",
    "print(db)\n"
   ]
  },
  {
   "cell_type": "code",
   "execution_count": 2,
   "metadata": {},
   "outputs": [
    {
     "data": {
      "text/html": [
       "<div>\n",
       "<style scoped>\n",
       "    .dataframe tbody tr th:only-of-type {\n",
       "        vertical-align: middle;\n",
       "    }\n",
       "\n",
       "    .dataframe tbody tr th {\n",
       "        vertical-align: top;\n",
       "    }\n",
       "\n",
       "    .dataframe thead th {\n",
       "        text-align: right;\n",
       "    }\n",
       "</style>\n",
       "<table border=\"1\" class=\"dataframe\">\n",
       "  <thead>\n",
       "    <tr style=\"text-align: right;\">\n",
       "      <th></th>\n",
       "      <th>_id</th>\n",
       "      <th>category_code</th>\n",
       "      <th>founded_year</th>\n",
       "      <th>geojson</th>\n",
       "      <th>latitude</th>\n",
       "      <th>longitude</th>\n",
       "      <th>name</th>\n",
       "      <th>number_of_employees</th>\n",
       "      <th>offices</th>\n",
       "    </tr>\n",
       "  </thead>\n",
       "  <tbody>\n",
       "    <tr>\n",
       "      <th>0</th>\n",
       "      <td>5cd5954ae217c00db4dcb3ac</td>\n",
       "      <td>web</td>\n",
       "      <td>2006</td>\n",
       "      <td>{'type': 'Point', 'coordinates': [-118.393064,...</td>\n",
       "      <td>34.090368</td>\n",
       "      <td>-118.393064</td>\n",
       "      <td>Geni</td>\n",
       "      <td>18</td>\n",
       "      <td>[{'longitude': -118.393064, 'latitude': 34.090...</td>\n",
       "    </tr>\n",
       "    <tr>\n",
       "      <th>1</th>\n",
       "      <td>5cd5954ae217c00db4dcb3ad</td>\n",
       "      <td>web</td>\n",
       "      <td>2007</td>\n",
       "      <td>{'type': 'Point', 'coordinates': [-118.487267,...</td>\n",
       "      <td>34.017606</td>\n",
       "      <td>-118.487267</td>\n",
       "      <td>Mahalo</td>\n",
       "      <td>40</td>\n",
       "      <td>[{'longitude': -118.487267, 'latitude': 34.017...</td>\n",
       "    </tr>\n",
       "    <tr>\n",
       "      <th>2</th>\n",
       "      <td>5cd5954ae217c00db4dcb3ae</td>\n",
       "      <td>games_video</td>\n",
       "      <td>2006</td>\n",
       "      <td>{'type': 'Point', 'coordinates': [-122.409173,...</td>\n",
       "      <td>37.788482</td>\n",
       "      <td>-122.409173</td>\n",
       "      <td>Kyte</td>\n",
       "      <td>40</td>\n",
       "      <td>[{'longitude': -122.409173, 'latitude': 37.788...</td>\n",
       "    </tr>\n",
       "    <tr>\n",
       "      <th>3</th>\n",
       "      <td>5cd5954ae217c00db4dcb3af</td>\n",
       "      <td>web</td>\n",
       "      <td>2007</td>\n",
       "      <td>{'type': 'Point', 'coordinates': [-119.306607,...</td>\n",
       "      <td>37.269175</td>\n",
       "      <td>-119.306607</td>\n",
       "      <td>CriticalMetrics</td>\n",
       "      <td>4</td>\n",
       "      <td>[{'longitude': -119.306607, 'latitude': 37.269...</td>\n",
       "    </tr>\n",
       "    <tr>\n",
       "      <th>4</th>\n",
       "      <td>5cd5954ae217c00db4dcb3b0</td>\n",
       "      <td>games_video</td>\n",
       "      <td>2006</td>\n",
       "      <td>{'type': 'Point', 'coordinates': [-118.254558,...</td>\n",
       "      <td>34.051409</td>\n",
       "      <td>-118.254558</td>\n",
       "      <td>Stickam</td>\n",
       "      <td>35</td>\n",
       "      <td>[{'longitude': -118.254558, 'latitude': 34.051...</td>\n",
       "    </tr>\n",
       "  </tbody>\n",
       "</table>\n",
       "</div>"
      ],
      "text/plain": [
       "                        _id category_code  founded_year  \\\n",
       "0  5cd5954ae217c00db4dcb3ac           web          2006   \n",
       "1  5cd5954ae217c00db4dcb3ad           web          2007   \n",
       "2  5cd5954ae217c00db4dcb3ae   games_video          2006   \n",
       "3  5cd5954ae217c00db4dcb3af           web          2007   \n",
       "4  5cd5954ae217c00db4dcb3b0   games_video          2006   \n",
       "\n",
       "                                             geojson   latitude   longitude  \\\n",
       "0  {'type': 'Point', 'coordinates': [-118.393064,...  34.090368 -118.393064   \n",
       "1  {'type': 'Point', 'coordinates': [-118.487267,...  34.017606 -118.487267   \n",
       "2  {'type': 'Point', 'coordinates': [-122.409173,...  37.788482 -122.409173   \n",
       "3  {'type': 'Point', 'coordinates': [-119.306607,...  37.269175 -119.306607   \n",
       "4  {'type': 'Point', 'coordinates': [-118.254558,...  34.051409 -118.254558   \n",
       "\n",
       "              name  number_of_employees  \\\n",
       "0             Geni                   18   \n",
       "1           Mahalo                   40   \n",
       "2             Kyte                   40   \n",
       "3  CriticalMetrics                    4   \n",
       "4          Stickam                   35   \n",
       "\n",
       "                                             offices  \n",
       "0  [{'longitude': -118.393064, 'latitude': 34.090...  \n",
       "1  [{'longitude': -118.487267, 'latitude': 34.017...  \n",
       "2  [{'longitude': -122.409173, 'latitude': 37.788...  \n",
       "3  [{'longitude': -119.306607, 'latitude': 37.269...  \n",
       "4  [{'longitude': -118.254558, 'latitude': 34.051...  "
      ]
     },
     "execution_count": 2,
     "metadata": {},
     "output_type": "execute_result"
    }
   ],
   "source": [
    "\n",
    "oficina = db.companies_v1.find({})\n",
    "    #{'$and':\n",
    "                            #  [ { \"offices.latitude\": {\"$exists\": True,\"$ne\":None} },\n",
    "                            ##   { \"offices.longitude\": {\"$exists\": True,\"$ne\":None} },\n",
    "                            #   {'founded_year': {'$gt': 2005 }}, \n",
    "                            #   {'number_of_employees': {'$gt': 1}}, \n",
    "                            #   {'$or':[{'category_code': 'web' },\n",
    "                                    #   {'category_code': 'software' },\n",
    "                                    #   {'category_code': 'games_video' },\n",
    "                                    #   {'category_code': 'mobile' },\n",
    "                                    #   {'category_code': 'music' },\n",
    "                                     #  {'category_code': 'nanotech'}]}]}, \n",
    "                           #  {'name':1,'founded_year': 1, '_id': 0, 'number_of_employees':1,'offices.latitude':1, 'offices.longitude':1, 'category_code':1})\n",
    "\n",
    "dataset1 = pd.DataFrame(oficina)\n",
    "dataset1.head()"
   ]
  },
  {
   "cell_type": "code",
   "execution_count": 3,
   "metadata": {},
   "outputs": [
    {
     "name": "stdout",
     "output_type": "stream",
     "text": [
      "<class 'pandas.core.frame.DataFrame'>\n",
      "RangeIndex: 1498 entries, 0 to 1497\n",
      "Data columns (total 9 columns):\n",
      "_id                    1498 non-null object\n",
      "category_code          1498 non-null object\n",
      "founded_year           1498 non-null int64\n",
      "geojson                1498 non-null object\n",
      "latitude               1498 non-null float64\n",
      "longitude              1498 non-null float64\n",
      "name                   1498 non-null object\n",
      "number_of_employees    1498 non-null int64\n",
      "offices                1498 non-null object\n",
      "dtypes: float64(2), int64(2), object(5)\n",
      "memory usage: 105.4+ KB\n"
     ]
    }
   ],
   "source": [
    "dataset1.info()"
   ]
  },
  {
   "cell_type": "code",
   "execution_count": 8,
   "metadata": {},
   "outputs": [
    {
     "data": {
      "text/plain": [
       "640"
      ]
     },
     "execution_count": 8,
     "metadata": {},
     "output_type": "execute_result"
    }
   ],
   "source": [
    "\n",
    "nearLocation = {\n",
    "    \"lng\": 37.793568,\n",
    "    \"lat\": -122.404621\n",
    "}\n",
    "\n",
    "dataset1 = pd.DataFrame(db.companies_v1.find({\n",
    "    \"geojson\": {\n",
    "     \"$near\": {\n",
    "       \"$geometry\": {\n",
    "          \"type\": \"Point\" ,\n",
    "          \"coordinates\": [ nearLocation[\"lat\"] , nearLocation[\"lng\"] ]\n",
    "       },\n",
    "       \"$maxDistance\": 600, # In meters\n",
    "     }\n",
    "   }\n",
    "}))\n",
    "sum(dataset1.number_of_employees)"
   ]
  },
  {
   "cell_type": "code",
   "execution_count": 9,
   "metadata": {},
   "outputs": [
    {
     "name": "stdout",
     "output_type": "stream",
     "text": [
      "18\n"
     ]
    }
   ],
   "source": [
    "lista=[]\n",
    "for a,b in zip(dataset1['longitude'], dataset1['latitude']):\n",
    "    numero_emp_cerca = pd.DataFrame(db.companies_v1.find({\n",
    "    \"geojson\": {\n",
    "     \"$near\": {\n",
    "       \"$geometry\": {\n",
    "          \"type\": \"Point\" ,\n",
    "          \"coordinates\": [ a , b ]\n",
    "       },\n",
    "       \"$maxDistance\": 600, # In meters\n",
    "     }\n",
    "   }\n",
    "}))\n",
    "    sum(dataset1.number_of_employees)\n",
    "    lista.append(numero_emp_cerca)\n",
    "print(len(lista))"
   ]
  },
  {
   "cell_type": "code",
   "execution_count": 6,
   "metadata": {},
   "outputs": [
    {
     "ename": "ValueError",
     "evalue": "Can only compare identically-labeled DataFrame objects",
     "output_type": "error",
     "traceback": [
      "\u001b[0;31m---------------------------------------------------------------------------\u001b[0m",
      "\u001b[0;31mValueError\u001b[0m                                Traceback (most recent call last)",
      "\u001b[0;32m<ipython-input-6-6f09fdfcf910>\u001b[0m in \u001b[0;36m<module>\u001b[0;34m\u001b[0m\n\u001b[1;32m      1\u001b[0m \u001b[0mdataset1\u001b[0m\u001b[0;34m[\u001b[0m\u001b[0;34m\"empleados_cerca\"\u001b[0m\u001b[0;34m]\u001b[0m\u001b[0;34m=\u001b[0m\u001b[0mlista\u001b[0m\u001b[0;34m\u001b[0m\u001b[0m\n\u001b[0;32m----> 2\u001b[0;31m \u001b[0mdataset1\u001b[0m\u001b[0;34m.\u001b[0m\u001b[0msort_values\u001b[0m\u001b[0;34m(\u001b[0m\u001b[0;34m[\u001b[0m\u001b[0;34m\"empleados_cerca\"\u001b[0m\u001b[0;34m]\u001b[0m\u001b[0;34m,\u001b[0m \u001b[0mascending\u001b[0m\u001b[0;34m=\u001b[0m\u001b[0;34m[\u001b[0m\u001b[0;32mFalse\u001b[0m\u001b[0;34m]\u001b[0m\u001b[0;34m,\u001b[0m \u001b[0minplace\u001b[0m\u001b[0;34m=\u001b[0m\u001b[0;32mTrue\u001b[0m\u001b[0;34m)\u001b[0m\u001b[0;34m\u001b[0m\u001b[0m\n\u001b[0m\u001b[1;32m      3\u001b[0m \u001b[0mdataset1\u001b[0m\u001b[0;34m.\u001b[0m\u001b[0minfo\u001b[0m\u001b[0;34m(\u001b[0m\u001b[0;34m)\u001b[0m\u001b[0;34m\u001b[0m\u001b[0m\n",
      "\u001b[0;32m/usr/local/lib/python3.5/dist-packages/pandas/core/frame.py\u001b[0m in \u001b[0;36msort_values\u001b[0;34m(self, by, axis, ascending, inplace, kind, na_position)\u001b[0m\n\u001b[1;32m   4723\u001b[0m \u001b[0;34m\u001b[0m\u001b[0m\n\u001b[1;32m   4724\u001b[0m             indexer = nargsort(k, kind=kind, ascending=ascending,\n\u001b[0;32m-> 4725\u001b[0;31m                                na_position=na_position)\n\u001b[0m\u001b[1;32m   4726\u001b[0m \u001b[0;34m\u001b[0m\u001b[0m\n\u001b[1;32m   4727\u001b[0m         new_data = self._data.take(indexer,\n",
      "\u001b[0;32m/usr/local/lib/python3.5/dist-packages/pandas/core/sorting.py\u001b[0m in \u001b[0;36mnargsort\u001b[0;34m(items, kind, ascending, na_position)\u001b[0m\n\u001b[1;32m    271\u001b[0m         \u001b[0mnon_nans\u001b[0m \u001b[0;34m=\u001b[0m \u001b[0mnon_nans\u001b[0m\u001b[0;34m[\u001b[0m\u001b[0;34m:\u001b[0m\u001b[0;34m:\u001b[0m\u001b[0;34m-\u001b[0m\u001b[0;36m1\u001b[0m\u001b[0;34m]\u001b[0m\u001b[0;34m\u001b[0m\u001b[0m\n\u001b[1;32m    272\u001b[0m         \u001b[0mnon_nan_idx\u001b[0m \u001b[0;34m=\u001b[0m \u001b[0mnon_nan_idx\u001b[0m\u001b[0;34m[\u001b[0m\u001b[0;34m:\u001b[0m\u001b[0;34m:\u001b[0m\u001b[0;34m-\u001b[0m\u001b[0;36m1\u001b[0m\u001b[0;34m]\u001b[0m\u001b[0;34m\u001b[0m\u001b[0m\n\u001b[0;32m--> 273\u001b[0;31m     \u001b[0mindexer\u001b[0m \u001b[0;34m=\u001b[0m \u001b[0mnon_nan_idx\u001b[0m\u001b[0;34m[\u001b[0m\u001b[0mnon_nans\u001b[0m\u001b[0;34m.\u001b[0m\u001b[0margsort\u001b[0m\u001b[0;34m(\u001b[0m\u001b[0mkind\u001b[0m\u001b[0;34m=\u001b[0m\u001b[0mkind\u001b[0m\u001b[0;34m)\u001b[0m\u001b[0;34m]\u001b[0m\u001b[0;34m\u001b[0m\u001b[0m\n\u001b[0m\u001b[1;32m    274\u001b[0m     \u001b[0;32mif\u001b[0m \u001b[0;32mnot\u001b[0m \u001b[0mascending\u001b[0m\u001b[0;34m:\u001b[0m\u001b[0;34m\u001b[0m\u001b[0m\n\u001b[1;32m    275\u001b[0m         \u001b[0mindexer\u001b[0m \u001b[0;34m=\u001b[0m \u001b[0mindexer\u001b[0m\u001b[0;34m[\u001b[0m\u001b[0;34m:\u001b[0m\u001b[0;34m:\u001b[0m\u001b[0;34m-\u001b[0m\u001b[0;36m1\u001b[0m\u001b[0;34m]\u001b[0m\u001b[0;34m\u001b[0m\u001b[0m\n",
      "\u001b[0;32m/usr/local/lib/python3.5/dist-packages/pandas/core/ops.py\u001b[0m in \u001b[0;36mf\u001b[0;34m(self, other)\u001b[0m\n\u001b[1;32m   2094\u001b[0m             \u001b[0;31m# Another DataFrame\u001b[0m\u001b[0;34m\u001b[0m\u001b[0;34m\u001b[0m\u001b[0m\n\u001b[1;32m   2095\u001b[0m             \u001b[0;32mif\u001b[0m \u001b[0;32mnot\u001b[0m \u001b[0mself\u001b[0m\u001b[0;34m.\u001b[0m\u001b[0m_indexed_same\u001b[0m\u001b[0;34m(\u001b[0m\u001b[0mother\u001b[0m\u001b[0;34m)\u001b[0m\u001b[0;34m:\u001b[0m\u001b[0;34m\u001b[0m\u001b[0m\n\u001b[0;32m-> 2096\u001b[0;31m                 raise ValueError('Can only compare identically-labeled '\n\u001b[0m\u001b[1;32m   2097\u001b[0m                                  'DataFrame objects')\n\u001b[1;32m   2098\u001b[0m             \u001b[0;32mreturn\u001b[0m \u001b[0mdispatch_to_series\u001b[0m\u001b[0;34m(\u001b[0m\u001b[0mself\u001b[0m\u001b[0;34m,\u001b[0m \u001b[0mother\u001b[0m\u001b[0;34m,\u001b[0m \u001b[0mfunc\u001b[0m\u001b[0;34m,\u001b[0m \u001b[0mstr_rep\u001b[0m\u001b[0;34m)\u001b[0m\u001b[0;34m\u001b[0m\u001b[0m\n",
      "\u001b[0;31mValueError\u001b[0m: Can only compare identically-labeled DataFrame objects"
     ]
    }
   ],
   "source": [
    "dataset1[\"empleados_cerca\"]=lista\n",
    "dataset1.sort_values([\"empleados_cerca\"], ascending=[False], inplace=True) \n",
    "dataset1.info()"
   ]
  },
  {
   "cell_type": "code",
   "execution_count": null,
   "metadata": {},
   "outputs": [],
   "source": [
    "\n",
    "\n",
    "\n"
   ]
  },
  {
   "cell_type": "code",
   "execution_count": null,
   "metadata": {},
   "outputs": [],
   "source": [
    "\n",
    "\n",
    "#def numero_emp_cerca(geojson, max_distance = 600):\n",
    "  #  emp_cerca = pd.DataFrame(list(companies_v1.find(\n",
    "      #  {'geojson': { '$near': {'$geometry': geojson, '$maxDistance': max_distance}}})))\n",
    "    #return sum(emp_cerca['number_of_employees'])\n",
    "\n",
    "\n",
    "#data['employees2000'] = data['geojson'].apply(numero_emp_cerca)\n",
    "#data.head()\n",
    "\n",
    "\n"
   ]
  },
  {
   "cell_type": "code",
   "execution_count": null,
   "metadata": {},
   "outputs": [],
   "source": []
  },
  {
   "cell_type": "code",
   "execution_count": null,
   "metadata": {},
   "outputs": [],
   "source": []
  }
 ],
 "metadata": {
  "kernelspec": {
   "display_name": "Python 3",
   "language": "python",
   "name": "python3"
  },
  "language_info": {
   "codemirror_mode": {
    "name": "ipython",
    "version": 3
   },
   "file_extension": ".py",
   "mimetype": "text/x-python",
   "name": "python",
   "nbconvert_exporter": "python",
   "pygments_lexer": "ipython3",
   "version": "3.5.2"
  }
 },
 "nbformat": 4,
 "nbformat_minor": 2
}
