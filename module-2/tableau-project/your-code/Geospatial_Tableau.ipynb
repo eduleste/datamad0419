{
 "cells": [
  {
   "cell_type": "code",
   "execution_count": 20,
   "metadata": {},
   "outputs": [
    {
     "name": "stdout",
     "output_type": "stream",
     "text": [
      "Facebook\n"
     ]
    }
   ],
   "source": [
    "from pymongo import MongoClient\n",
    "import pandas as pd\n",
    "client = MongoClient()\n",
    "\n",
    "db = client.companies\n",
    "\n",
    "for rest in db.companies.find({\"name\":\"Facebook\"}):\n",
    "    print(rest['name'])"
   ]
  },
  {
   "cell_type": "markdown",
   "metadata": {},
   "source": [
    "- VISUALIZATION PROJECT Geospatial Business Intelligence (BI)\n",
    "  * Make a geospartial analysis of the `companies` dataset\n",
    "  * Things you know:\n",
    "    - You have a software company with 50 employees\n",
    "    - The company creates video games\n",
    "    - Roles in your company: 20 developers, 20 Designers/Creatieves/UX/UI and 10 executives/managers\n",
    "  * Do an analysis about placing the new company offices in the best environment based on the following criteria:\n",
    "    - There should be software engineers working around\n",
    "    - The surroundings must have a good ratio of big companies vs startups\n",
    "    - Ensure you have in your surroundings companies that cover the interests of your team\n",
    "    - Avoid old companies, prefer recently created ones"
   ]
  },
  {
   "cell_type": "code",
   "execution_count": 54,
   "metadata": {},
   "outputs": [],
   "source": [
    "molonas = ['web', 'software', 'games_video','mobile', 'music', 'nanotech']\n",
    "\n",
    "empresas = db.companies.find({'$and': [{'founded_year': {'$gt': 2005 }}, {'number_of_employees': {'$ne': None}}, {'$or':[{'category_code': 'web' },{'category_code': 'software' },{'category_code': 'games_video' },{'category_code': 'mobile' },{'category_code': 'music' },{'category_code': 'nanotech'}]}]}, {'name':1,'founded_year': 1, '_id': 0, 'number_of_employees':1,'offices.latitude':1, 'offices.longitude':1, 'category_code':1})\n",
    "                        \n",
    "                                 \n",
    "                        \n",
    "\n"
   ]
  },
  {
   "cell_type": "code",
   "execution_count": 55,
   "metadata": {},
   "outputs": [
    {
     "data": {
      "text/html": [
       "<div>\n",
       "<style scoped>\n",
       "    .dataframe tbody tr th:only-of-type {\n",
       "        vertical-align: middle;\n",
       "    }\n",
       "\n",
       "    .dataframe tbody tr th {\n",
       "        vertical-align: top;\n",
       "    }\n",
       "\n",
       "    .dataframe thead th {\n",
       "        text-align: right;\n",
       "    }\n",
       "</style>\n",
       "<table border=\"1\" class=\"dataframe\">\n",
       "  <thead>\n",
       "    <tr style=\"text-align: right;\">\n",
       "      <th></th>\n",
       "      <th>category_code</th>\n",
       "      <th>founded_year</th>\n",
       "      <th>name</th>\n",
       "      <th>number_of_employees</th>\n",
       "      <th>offices</th>\n",
       "    </tr>\n",
       "  </thead>\n",
       "  <tbody>\n",
       "    <tr>\n",
       "      <th>0</th>\n",
       "      <td>web</td>\n",
       "      <td>2006</td>\n",
       "      <td>Geni</td>\n",
       "      <td>18</td>\n",
       "      <td>[{'longitude': -118.393064, 'latitude': 34.090...</td>\n",
       "    </tr>\n",
       "    <tr>\n",
       "      <th>1</th>\n",
       "      <td>games_video</td>\n",
       "      <td>2006</td>\n",
       "      <td>Joost</td>\n",
       "      <td>0</td>\n",
       "      <td>[{'longitude': -74.0094471, 'latitude': 40.746...</td>\n",
       "    </tr>\n",
       "    <tr>\n",
       "      <th>2</th>\n",
       "      <td>web</td>\n",
       "      <td>2007</td>\n",
       "      <td>Mahalo</td>\n",
       "      <td>40</td>\n",
       "      <td>[{'longitude': -118.487267, 'latitude': 34.017...</td>\n",
       "    </tr>\n",
       "  </tbody>\n",
       "</table>\n",
       "</div>"
      ],
      "text/plain": [
       "  category_code  founded_year    name  number_of_employees  \\\n",
       "0           web          2006    Geni                   18   \n",
       "1   games_video          2006   Joost                    0   \n",
       "2           web          2007  Mahalo                   40   \n",
       "\n",
       "                                             offices  \n",
       "0  [{'longitude': -118.393064, 'latitude': 34.090...  \n",
       "1  [{'longitude': -74.0094471, 'latitude': 40.746...  \n",
       "2  [{'longitude': -118.487267, 'latitude': 34.017...  "
      ]
     },
     "execution_count": 55,
     "metadata": {},
     "output_type": "execute_result"
    }
   ],
   "source": [
    "dataset = pd.DataFrame(empresas)\n",
    "dataset.head(3)"
   ]
  },
  {
   "cell_type": "code",
   "execution_count": 56,
   "metadata": {},
   "outputs": [
    {
     "name": "stdout",
     "output_type": "stream",
     "text": [
      "<class 'pandas.core.frame.DataFrame'>\n",
      "RangeIndex: 2903 entries, 0 to 2902\n",
      "Data columns (total 5 columns):\n",
      "category_code          2903 non-null object\n",
      "founded_year           2903 non-null int64\n",
      "name                   2903 non-null object\n",
      "number_of_employees    2903 non-null int64\n",
      "offices                2903 non-null object\n",
      "dtypes: int64(2), object(3)\n",
      "memory usage: 113.5+ KB\n"
     ]
    }
   ],
   "source": [
    "dataset.info()"
   ]
  },
  {
   "cell_type": "code",
   "execution_count": 53,
   "metadata": {},
   "outputs": [
    {
     "data": {
      "text/plain": [
       "array(['web', 'music', 'games_video', 'mobile', 'software', 'nanotech'],\n",
       "      dtype=object)"
      ]
     },
     "execution_count": 53,
     "metadata": {},
     "output_type": "execute_result"
    }
   ],
   "source": [
    "dataset['category_code'].unique() "
   ]
  },
  {
   "cell_type": "code",
   "execution_count": null,
   "metadata": {},
   "outputs": [],
   "source": [
    "# Get latitude \n",
    "def get_lat(coord): \n",
    "    try: \n",
    "        return coord[0]['latitude']\n",
    "    except:\n",
    "        return None\n",
    "\n",
    "# Get longitude    \n",
    "def get_long(coord): \n",
    "    try: \n",
    "        return coord[0]['longitude']\n",
    "    except:\n",
    "        return None\n",
    "\n",
    "# Inserting new columns with latitude and longitude    \n",
    "def insert_latlong(comp_d):   \n",
    "    comp_d['latitude'] = comp_d['offices'].apply(get_lat)\n",
    "    comp_d['longitude'] = comp_d['offices'].apply(get_long)\n",
    "    return comp_d"
   ]
  }
 ],
 "metadata": {
  "kernelspec": {
   "display_name": "Python 3",
   "language": "python",
   "name": "python3"
  },
  "language_info": {
   "codemirror_mode": {
    "name": "ipython",
    "version": 3
   },
   "file_extension": ".py",
   "mimetype": "text/x-python",
   "name": "python",
   "nbconvert_exporter": "python",
   "pygments_lexer": "ipython3",
   "version": "3.5.2"
  }
 },
 "nbformat": 4,
 "nbformat_minor": 2
}
